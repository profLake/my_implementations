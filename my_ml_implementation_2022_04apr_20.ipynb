{
  "nbformat": 4,
  "nbformat_minor": 0,
  "metadata": {
    "colab": {
      "name": "my_ml_implementation-2022_04apr_20.ipynb",
      "provenance": [],
      "collapsed_sections": []
    },
    "kernelspec": {
      "name": "python3",
      "display_name": "Python 3"
    },
    "language_info": {
      "name": "python"
    }
  },
  "cells": [
    {
      "cell_type": "code",
      "source": [
        "#\n",
        "# creation date  2022_04apr_20\n",
        "# last change    2022_04apr_24\n",
        "# author         artur\n",
        "# comment        The algorithm itself is a small part of this notebook. It was\n",
        "#                made almsot only with standard python3 tackles\n",
        "#                (tackle - приспособление)\n",
        "#\n",
        "\n"
      ],
      "metadata": {
        "id": "xwjLFdsJni-C"
      },
      "execution_count": null,
      "outputs": []
    },
    {
      "cell_type": "code",
      "execution_count": null,
      "metadata": {
        "id": "vSQYdeDm_CGX"
      },
      "outputs": [],
      "source": [
        "import numpy as np\n",
        "import pandas as pd\n",
        "import seaborn as sns"
      ]
    },
    {
      "cell_type": "code",
      "source": [
        "import sklearn.model_selection"
      ],
      "metadata": {
        "id": "NROGDngNCFTK"
      },
      "execution_count": null,
      "outputs": []
    },
    {
      "cell_type": "code",
      "source": [
        "%xmode Plain"
      ],
      "metadata": {
        "colab": {
          "base_uri": "https://localhost:8080/"
        },
        "id": "HDE7ty9ZEKvj",
        "outputId": "922f1ec0-95f2-4d73-c087-ff8bc477ebc2"
      },
      "execution_count": null,
      "outputs": [
        {
          "output_type": "stream",
          "name": "stdout",
          "text": [
            "Exception reporting mode: Plain\n"
          ]
        }
      ]
    },
    {
      "cell_type": "code",
      "source": [
        "full = sns.load_dataset(\"iris\")\n",
        "print(full.head())\n",
        "print(full.tail())"
      ],
      "metadata": {
        "colab": {
          "base_uri": "https://localhost:8080/"
        },
        "id": "1Q3O8E4n_ZnZ",
        "outputId": "91ca47a9-f7a3-4ded-d0fe-5ffac48f04bc"
      },
      "execution_count": null,
      "outputs": [
        {
          "output_type": "stream",
          "name": "stdout",
          "text": [
            "   sepal_length  sepal_width  petal_length  petal_width species\n",
            "0           5.1          3.5           1.4          0.2  setosa\n",
            "1           4.9          3.0           1.4          0.2  setosa\n",
            "2           4.7          3.2           1.3          0.2  setosa\n",
            "3           4.6          3.1           1.5          0.2  setosa\n",
            "4           5.0          3.6           1.4          0.2  setosa\n",
            "     sepal_length  sepal_width  petal_length  petal_width    species\n",
            "145           6.7          3.0           5.2          2.3  virginica\n",
            "146           6.3          2.5           5.0          1.9  virginica\n",
            "147           6.5          3.0           5.2          2.0  virginica\n",
            "148           6.2          3.4           5.4          2.3  virginica\n",
            "149           5.9          3.0           5.1          1.8  virginica\n"
          ]
        }
      ]
    },
    {
      "cell_type": "code",
      "source": [
        "X_full = full.iloc[:, :-1]\n",
        "y_full = full.iloc[:, -1]"
      ],
      "metadata": {
        "id": "JZ9y8Ur2DoKq"
      },
      "execution_count": null,
      "outputs": []
    },
    {
      "cell_type": "code",
      "source": [
        "X_train, X_test, y_train, y_test = sklearn.model_selection.train_test_split(X_full, y_full)"
      ],
      "metadata": {
        "id": "Dg8513FS_nd0"
      },
      "execution_count": null,
      "outputs": []
    },
    {
      "cell_type": "code",
      "source": [
        "y_train.unique()"
      ],
      "metadata": {
        "colab": {
          "base_uri": "https://localhost:8080/"
        },
        "id": "uYKdNyeocDnT",
        "outputId": "3624d9bf-f164-4297-f446-a190dc0d3712"
      },
      "execution_count": null,
      "outputs": [
        {
          "output_type": "execute_result",
          "data": {
            "text/plain": [
              "array(['virginica', 'versicolor', 'setosa'], dtype=object)"
            ]
          },
          "metadata": {},
          "execution_count": 13
        }
      ]
    },
    {
      "cell_type": "markdown",
      "source": [
        "----------------------------------"
      ],
      "metadata": {
        "id": "eebRr4fhV3RB"
      }
    },
    {
      "cell_type": "code",
      "source": [
        "def learn_averages(X_train, y_train):\n",
        "    sums = {}\n",
        "    counts = {}\n",
        "\n",
        "    for i in range(y_train.size):\n",
        "        target = y_train[i]\n",
        "        if target not in sums.keys():\n",
        "            sums[target] = 0\n",
        "            counts[target] = 0\n",
        "        sums[target] += X_train[i]\n",
        "        counts[target] += 1\n",
        "\n",
        "    averages = sums\n",
        "    for target in averages.keys():\n",
        "        averages[target] /= counts[target]\n",
        "\n",
        "    return averages"
      ],
      "metadata": {
        "id": "GuSpH-RZbGrH"
      },
      "execution_count": null,
      "outputs": []
    },
    {
      "cell_type": "code",
      "source": [
        "def probabilities_calc(row, learned_averages):\n",
        "    probabilities = {}\n",
        "    for target, averages in learned_averages.items():\n",
        "        ####keep in mind that and row, and averages are vectors here\n",
        "\n",
        "        ####closer to 0.0 is better\n",
        "        probabilities[target] = sum(    abs(row - averages) / averages    ) / len(row)\n",
        "    return probabilities"
      ],
      "metadata": {
        "id": "zjF-zJSMYLIX"
      },
      "execution_count": null,
      "outputs": []
    },
    {
      "cell_type": "code",
      "source": [
        "def predict(row, learned_averages):\n",
        "    probabilities = probabilities_calc(row, learned_averages)\n",
        "    most_probably = \"\"\n",
        "    most_probability = -1000\n",
        "    for target, probability in probabilities.items():\n",
        "        if (abs(probability) < abs(most_probability)):\n",
        "            most_probability = probability\n",
        "            most_probably = target\n",
        "    return most_probably"
      ],
      "metadata": {
        "id": "Cxyd6l7VaPcw"
      },
      "execution_count": null,
      "outputs": []
    },
    {
      "cell_type": "code",
      "source": [
        "def my_classifier(X_train, y_train, X_test):\n",
        "    averages = learn_averages(X_train, y_train)\n",
        "    predicts = []\n",
        "    for row in X_test:\n",
        "        predicts.append(predict(row, averages))\n",
        "    return predicts"
      ],
      "metadata": {
        "id": "70NI7XWKW98i"
      },
      "execution_count": null,
      "outputs": []
    },
    {
      "cell_type": "markdown",
      "source": [
        "----------------------------------"
      ],
      "metadata": {
        "id": "Jf0SgfCwwEh3"
      }
    },
    {
      "cell_type": "code",
      "source": [
        "test_learned_averages = {\"a\": [2, 2, 4, 1], \"b\": [2, 1, 1, 3], \"c\": [3, 5, 6, 5]}\n",
        "test_X_train = X_train\n",
        "test_y_train = y_train\n",
        "my_X_train = np.array(\n",
        "    [[8, 6, 7, 9],\n",
        "     [16, 13, 15, 15],\n",
        "     [16, 17, 17, 20],\n",
        "     [9, 5, 8, 7]], dtype=\"float64\")\n",
        "my_y_train = np.array([\"lower\",\n",
        "                       \"middle\",\n",
        "                       \"middleup\",\n",
        "                       \"lower\"])\n",
        "\n",
        "\n",
        "test_row = np.array([2.5, 1.7, 3, 8])\n",
        "test_result = probabilities_calc(test_row, test_learned_averages)\n",
        "test_right_answer = { 'a': 1.9125, 'b': 1.1541666666666668, 'c': 0.4816666666666667 }\n",
        "print(\"probabilities_calc(): \", end=\"\")\n",
        "if (test_result == test_right_answer):\n",
        "    print(\"Passed\")\n",
        "else:\n",
        "    print(\"Not passed. Got:\")\n",
        "    print(test_result)\n",
        "\n",
        "\n",
        "test_result = predict(test_row, test_learned_averages)\n",
        "test_right_answer = \"c\"\n",
        "print(\"predict(): \", end=\"\")\n",
        "if (test_result == test_right_answer):\n",
        "    print(\"Passed\")\n",
        "else:\n",
        "    print(\"Not passed. Got:\")\n",
        "    print(test_result)\n",
        "test_row = np.array([20, 19, 16, 15])\n",
        "my_averages = learn_averages(my_X_train, my_y_train)\n",
        "my_averages\n",
        "test_result = predict(test_row, my_averages)\n",
        "test_right_answer = \"middleup\"\n",
        "print(\"predict(): \", end=\"\")\n",
        "if (test_result == test_right_answer):\n",
        "    print(\"Passed\")\n",
        "else:\n",
        "    print(\"Not passed. Got:\")\n",
        "    print(test_result)\n",
        "\n",
        "\n",
        "test_result = learn_averages(my_X_train, my_y_train)\n",
        "test_right_answer = { \"lower\": [8.5, 5.5, 7.5, 8],\n",
        "                      \"middle\": [16, 13, 15, 15],\n",
        "                      \"middleup\": [16, 17, 17, 20]}\n",
        "print(\"learn_averages(): \", end=\"\")\n",
        "if (test_result[\"lower\"] == test_right_answer[\"lower\"]).all() and (test_result[\"middle\"] == test_right_answer[\"middle\"]).all():\n",
        "    print(\"Passed\")\n",
        "else:\n",
        "    print(\"Not passed. Got:\")\n",
        "    print(test_result)"
      ],
      "metadata": {
        "colab": {
          "base_uri": "https://localhost:8080/"
        },
        "id": "bUJIhzvxwH9O",
        "outputId": "0c57e34f-73dc-4df1-8f94-4f2e1c524cf2"
      },
      "execution_count": null,
      "outputs": [
        {
          "output_type": "stream",
          "name": "stdout",
          "text": [
            "probabilities_calc(): Passed\n",
            "predict(): Passed\n",
            "predict(): Passed\n",
            "learn_averages(): Passed\n"
          ]
        }
      ]
    },
    {
      "cell_type": "markdown",
      "source": [
        "----------------------------------\n",
        "My model test"
      ],
      "metadata": {
        "id": "oerlhDAee9tE"
      }
    },
    {
      "cell_type": "code",
      "source": [
        "model_y = my_classifier(X_train.values, y_train.values, X_test.values)\n",
        "(model_y == y_test).sum() / y_test.shape[0]"
      ],
      "metadata": {
        "id": "kSqy3Ak-oeoa",
        "colab": {
          "base_uri": "https://localhost:8080/"
        },
        "outputId": "d52a8932-25d5-4b02-e1d0-c9865243cf07"
      },
      "execution_count": null,
      "outputs": [
        {
          "output_type": "execute_result",
          "data": {
            "text/plain": [
              "0.9736842105263158"
            ]
          },
          "metadata": {},
          "execution_count": 19
        }
      ]
    },
    {
      "cell_type": "markdown",
      "source": [
        "----------------------------------\n",
        "Comparing with sklearn model"
      ],
      "metadata": {
        "id": "tzPm_kqLDJ7i"
      }
    },
    {
      "cell_type": "code",
      "source": [
        "import sklearn.naive_bayes"
      ],
      "metadata": {
        "id": "ch147QJlBzho"
      },
      "execution_count": null,
      "outputs": []
    },
    {
      "cell_type": "code",
      "source": [
        "from_teacher_model = sklearn.naive_bayes.GaussianNB()\n",
        "from_teacher_model.fit(X_train, y_train)\n",
        "his_predicts = from_teacher_model.predict(X_test)"
      ],
      "metadata": {
        "id": "7wyj-zzzA6ER"
      },
      "execution_count": null,
      "outputs": []
    },
    {
      "cell_type": "code",
      "source": [
        "(his_predicts == y_test).sum() / y_test.shape[0]"
      ],
      "metadata": {
        "colab": {
          "base_uri": "https://localhost:8080/"
        },
        "id": "EZxj3u1tCsP3",
        "outputId": "89e2c777-dd1d-4a1d-f71c-b97f6f21ae8c"
      },
      "execution_count": null,
      "outputs": [
        {
          "output_type": "execute_result",
          "data": {
            "text/plain": [
              "1.0"
            ]
          },
          "metadata": {},
          "execution_count": 24
        }
      ]
    }
  ]
}